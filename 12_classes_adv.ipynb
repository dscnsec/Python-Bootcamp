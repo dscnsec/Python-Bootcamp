{
 "cells": [
  {
   "cell_type": "markdown",
   "metadata": {},
   "source": [
    "**ADVANCED FEATURES OF CLASS**"
   ]
  },
  {
   "cell_type": "code",
   "execution_count": null,
   "metadata": {},
   "outputs": [],
   "source": [
    "class MyClass:\n",
    "    \n",
    "    classVariable = \"Hello World\"\n",
    "    #This is a constructor\n",
    "    #Constructors are used to initialize the object\n",
    "    def __init__(self, name):\n",
    "        #This is an instance variable\n",
    "        #Instance variables are variables that are unique to each object of the class\n",
    "        self.name = name\n",
    "\n",
    "        #public variables are accessible from outside the class\n",
    "        self.publicVariable = \"Hello Parent\"\n",
    "        #protected variables are accessible from within the class and its subclasses\n",
    "        self._protectedVariable = \"Hello Parent\"\n",
    "        #private variables are accessible only from within the class\n",
    "        self.__privateVariable = \"Hello Parent\"\n",
    "\n",
    "\n",
    "    #This is a method\n",
    "    #Methods are functions that are defined inside a class\n",
    "    def myMethod(self):\n",
    "        print(\"Hello \" + self.name)"
   ]
  },
  {
   "cell_type": "markdown",
   "metadata": {},
   "source": [
    "#Inheritance is used to define a class that inherits all the methods and properties from another class\n",
    "\n",
    "#The child class will inherit all the methods and properties from its parent class\n",
    "#The child class can add its own methods and properties in addition to the parent class methods and properties"
   ]
  },
  {
   "cell_type": "code",
   "execution_count": null,
   "metadata": {},
   "outputs": [],
   "source": [
    "class MyChildClass(MyClass):\n",
    "    \n",
    "    #This is a constructor\n",
    "    #Constructors are used to initialize the object\n",
    "    def __init__(self, name):\n",
    "        #This is a call to the parent class constructor\n",
    "        #The super() function returns a reference to the parent class\n",
    "        super().__init__(name)\n",
    "\n",
    "        #This is an instance variable\n",
    "        #Instance variables are variables that are unique to each object of the class\n",
    "        self.childName = name\n",
    "\n",
    "        #public variables are accessible from outside the class\n",
    "        self.childPublicVariable = \"Hello Child\"\n",
    "        #protected variables are accessible from within the class and its subclasses\n",
    "        self._childProtectedVariable = \"Hello Child\"\n",
    "        #private variables are accessible only from within the class\n",
    "        self.__childPrivateVariable = \"Hello Child\"\n",
    "\n",
    "    def myChildMethod(self):\n",
    "        print(\"Hello \" + self.childName)\n",
    "\n",
    "    #method overriding is used to override a method in the parent class\n",
    "    def myMethod(self):\n",
    "        print(\"Hello \" + self.childName)"
   ]
  },
  {
   "cell_type": "markdown",
   "metadata": {},
   "source": [
    "#This is an parent object"
   ]
  },
  {
   "cell_type": "code",
   "execution_count": null,
   "metadata": {},
   "outputs": [],
   "source": [
    "myObject = MyClass(\"Alpha\")"
   ]
  },
  {
   "cell_type": "code",
   "execution_count": null,
   "metadata": {},
   "outputs": [],
   "source": [
    "#This is a call to the object method\n",
    "myObject.myMethod()"
   ]
  },
  {
   "cell_type": "markdown",
   "metadata": {},
   "source": [
    "#This is a child object"
   ]
  },
  {
   "cell_type": "code",
   "execution_count": null,
   "metadata": {},
   "outputs": [],
   "source": [
    "myChildObject = MyChildClass(\"Beta\")"
   ]
  },
  {
   "cell_type": "code",
   "execution_count": null,
   "metadata": {},
   "outputs": [],
   "source": [
    "#This is a call to the object method\n",
    "myChildObject.myChildMethod()"
   ]
  },
  {
   "cell_type": "code",
   "execution_count": null,
   "metadata": {},
   "outputs": [],
   "source": [
    "#This is a call to the object method\n",
    "myChildObject.myMethod()"
   ]
  },
  {
   "cell_type": "code",
   "execution_count": null,
   "metadata": {},
   "outputs": [],
   "source": [
    "#Calling the parent class method using the super() function\n",
    "super(MyChildClass, myChildObject).myMethod()"
   ]
  }
 ],
 "metadata": {
  "kernelspec": {
   "display_name": "Python 3.9.13 64-bit (microsoft store)",
   "language": "python",
   "name": "python3"
  },
  "language_info": {
   "name": "python",
   "version": "3.9.13"
  },
  "orig_nbformat": 4,
  "vscode": {
   "interpreter": {
    "hash": "205b1af2a36fc9b873948fcd945df97d4e7fe0398c281cee8fa0ab963bce39cd"
   }
  }
 },
 "nbformat": 4,
 "nbformat_minor": 2
}
