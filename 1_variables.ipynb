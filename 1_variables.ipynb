{
  "cells": [
    {
      "cell_type": "markdown",
      "metadata": {
        "id": "tetY2j92pICV"
      },
      "source": [
        "#**VARIABLES**\n"
      ]
    },
    {
      "cell_type": "markdown",
      "metadata": {
        "id": "fxIZpDpupVa7"
      },
      "source": [
        "#This is a Single line comment\n",
        "This does not affect the program."
      ]
    },
    {
      "cell_type": "code",
      "execution_count": null,
      "metadata": {
        "id": "-YS4hJBPpxKB"
      },
      "outputs": [],
      "source": [
        "#This is a single line comment"
      ]
    },
    {
      "cell_type": "markdown",
      "metadata": {
        "id": "dNKGDZlBpqtB"
      },
      "source": [
        "#This is an integer variable\n",
        "Integer variables are whole numbers"
      ]
    },
    {
      "cell_type": "code",
      "execution_count": null,
      "metadata": {
        "id": "L9CuWSNiqIAj"
      },
      "outputs": [],
      "source": [
        "age = 1\n",
        "print(age)"
      ]
    },
    {
      "cell_type": "markdown",
      "metadata": {
        "id": "LJDuCUAUpqiL"
      },
      "source": [
        "#This is a float variable\n",
        "Float variables are decimal numbers"
      ]
    },
    {
      "cell_type": "code",
      "execution_count": null,
      "metadata": {
        "id": "BprGjlRWqLrx"
      },
      "outputs": [],
      "source": [
        "pi = 3.14\n",
        "print(pi)"
      ]
    },
    {
      "cell_type": "markdown",
      "metadata": {
        "id": "X5-eLx1GqAd2"
      },
      "source": [
        "#This is a complex variable\n",
        "Complex numbers are of the form a+bj"
      ]
    },
    {
      "cell_type": "code",
      "execution_count": null,
      "metadata": {
        "id": "lXHv9mAzo6km"
      },
      "outputs": [],
      "source": [
        "mycomplex = 1+2j\n",
        "print(mycomplex)"
      ]
    },
    {
      "cell_type": "markdown",
      "metadata": {
        "id": "yuTD0AV4pqSv"
      },
      "source": [
        "#This is a boolean variable\n",
        "Boolean variables are either True or False"
      ]
    },
    {
      "cell_type": "code",
      "execution_count": null,
      "metadata": {
        "id": "bE2u-IObqLjR"
      },
      "outputs": [],
      "source": [
        "isTrue = True\n",
        "print(isTrue)"
      ]
    },
    {
      "cell_type": "markdown",
      "metadata": {
        "id": "mx156LFGplOe"
      },
      "source": [
        "#This is a string variable\n",
        "String variables are enclosed in single or double quotes"
      ]
    },
    {
      "cell_type": "code",
      "execution_count": null,
      "metadata": {
        "id": "bMzhiWtdqFQK"
      },
      "outputs": [],
      "source": [
        "name = \"GDSC\"\n",
        "print(name)"
      ]
    },
    {
      "cell_type": "markdown",
      "metadata": {
        "id": "DfXv41CtpyDW"
      },
      "source": [
        "#This is a list variable\n",
        "Lists are mutable"
      ]
    },
    {
      "cell_type": "code",
      "execution_count": null,
      "metadata": {
        "id": "pbUQ0HJYqLa7"
      },
      "outputs": [],
      "source": [
        "mylist = [1,2,3,4,5]\n",
        "print(mylist)"
      ]
    },
    {
      "cell_type": "markdown",
      "metadata": {
        "id": "MJHzLSewp4zW"
      },
      "source": [
        "#This is a tuple variable\n",
        "Tuples are immutable"
      ]
    },
    {
      "cell_type": "code",
      "execution_count": null,
      "metadata": {
        "id": "bLXE5a1dqPO_"
      },
      "outputs": [],
      "source": [
        "mytuple = (1,2,3,4,5)\n",
        "print(mytuple)"
      ]
    },
    {
      "cell_type": "markdown",
      "metadata": {
        "id": "UFBsX0fep8-c"
      },
      "source": [
        "#This is a set variable\n",
        "Sets are unordered and unindexed"
      ]
    },
    {
      "cell_type": "code",
      "execution_count": null,
      "metadata": {
        "id": "pGd-uCyjqPLn"
      },
      "outputs": [],
      "source": [
        "myset = {1,2,3,4,5}\n",
        "print(myset)"
      ]
    },
    {
      "cell_type": "markdown",
      "metadata": {
        "id": "CR4f2vYnpx3n"
      },
      "source": [
        "#This is a dictionary variable\n",
        "Dictionaries are key value pairs"
      ]
    },
    {
      "cell_type": "code",
      "execution_count": null,
      "metadata": {
        "id": "rnzA_xnUqPff"
      },
      "outputs": [],
      "source": [
        "mydict = {\"name\":\"GDSC\",\"age\":1}\n",
        "print(mydict)"
      ]
    }
  ],
  "metadata": {
    "colab": {
      "provenance": []
    },
    "kernelspec": {
      "display_name": "Python 3.9.13 64-bit (microsoft store)",
      "language": "python",
      "name": "python3"
    },
    "language_info": {
      "name": "python",
      "version": "3.9.13"
    },
    "vscode": {
      "interpreter": {
        "hash": "205b1af2a36fc9b873948fcd945df97d4e7fe0398c281cee8fa0ab963bce39cd"
      }
    }
  },
  "nbformat": 4,
  "nbformat_minor": 0
}
