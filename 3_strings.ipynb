{
 "cells": [
  {
   "cell_type": "markdown",
   "metadata": {},
   "source": [
    "#**STRING**"
   ]
  },
  {
   "cell_type": "markdown",
   "metadata": {},
   "source": [
    "#This is a string\n",
    "#Strings are used to store text"
   ]
  },
  {
   "cell_type": "code",
   "execution_count": null,
   "metadata": {},
   "outputs": [],
   "source": [
    "myString = \"Hello World\""
   ]
  },
  {
   "cell_type": "markdown",
   "metadata": {},
   "source": [
    "#Strings are arrays\n",
    "#Get the character at position 1"
   ]
  },
  {
   "cell_type": "code",
   "execution_count": null,
   "metadata": {},
   "outputs": [],
   "source": [
    "print(myString[1])"
   ]
  },
  {
   "cell_type": "markdown",
   "metadata": {},
   "source": [
    "#Substring\n",
    "#Get the characters from position 2 to position 5 (not included)"
   ]
  },
  {
   "cell_type": "code",
   "execution_count": null,
   "metadata": {},
   "outputs": [],
   "source": [
    "print(myString[2:5])"
   ]
  },
  {
   "cell_type": "markdown",
   "metadata": {},
   "source": [
    "#The strip() method removes any whitespace from the beginning or the end"
   ]
  },
  {
   "cell_type": "code",
   "execution_count": null,
   "metadata": {},
   "outputs": [],
   "source": [
    "print(myString.strip())"
   ]
  },
  {
   "cell_type": "markdown",
   "metadata": {},
   "source": [
    "#The len() method returns the length of a string"
   ]
  },
  {
   "cell_type": "code",
   "execution_count": null,
   "metadata": {},
   "outputs": [],
   "source": [
    "print(len(myString))"
   ]
  },
  {
   "cell_type": "markdown",
   "metadata": {},
   "source": [
    "#The lower() method returns the string in lower case"
   ]
  },
  {
   "cell_type": "code",
   "execution_count": null,
   "metadata": {},
   "outputs": [],
   "source": [
    "print(myString.lower())"
   ]
  },
  {
   "cell_type": "markdown",
   "metadata": {},
   "source": [
    "#The upper() method returns the string in upper case"
   ]
  },
  {
   "cell_type": "code",
   "execution_count": null,
   "metadata": {},
   "outputs": [],
   "source": [
    "print(myString.upper())"
   ]
  },
  {
   "cell_type": "markdown",
   "metadata": {},
   "source": [
    "#The replace() method replaces a string with another string"
   ]
  },
  {
   "cell_type": "code",
   "execution_count": null,
   "metadata": {},
   "outputs": [],
   "source": [
    "print(myString.replace(\"H\", \"J\"))"
   ]
  },
  {
   "cell_type": "markdown",
   "metadata": {},
   "source": [
    "#The split() method splits the string into substrings if it finds instances of the separator\n",
    "#Default separator is any whitespace"
   ]
  },
  {
   "cell_type": "code",
   "execution_count": null,
   "metadata": {},
   "outputs": [],
   "source": [
    "print(myString.split(\" \"))"
   ]
  },
  {
   "cell_type": "markdown",
   "metadata": {},
   "source": [
    "#Check if the phrase \"Hello\" is present in the following text"
   ]
  },
  {
   "cell_type": "code",
   "execution_count": null,
   "metadata": {},
   "outputs": [],
   "source": [
    "txt = \"The rain in Spain stays mainly in the plain\"\n",
    "x = \"Hello\" in txt\n",
    "print(x)"
   ]
  },
  {
   "cell_type": "markdown",
   "metadata": {},
   "source": [
    "#Check if the phrase \"ain\" is NOT present in the following text"
   ]
  },
  {
   "cell_type": "code",
   "execution_count": null,
   "metadata": {},
   "outputs": [],
   "source": [
    "x = \"ain\" not in txt\n",
    "print(x)"
   ]
  },
  {
   "cell_type": "markdown",
   "metadata": {},
   "source": [
    "#String concatenation"
   ]
  },
  {
   "cell_type": "code",
   "execution_count": null,
   "metadata": {},
   "outputs": [],
   "source": [
    "a = \"Hello\"\n",
    "b = \"World\"\n",
    "c = a + b\n",
    "print(c)"
   ]
  },
  {
   "cell_type": "markdown",
   "metadata": {},
   "source": [
    "#String format"
   ]
  },
  {
   "cell_type": "code",
   "execution_count": null,
   "metadata": {},
   "outputs": [],
   "source": [
    "age = 36\n",
    "txt = \"My name is John, and I am {}\"\n",
    "print(txt.format(age))"
   ]
  },
  {
   "cell_type": "markdown",
   "metadata": {},
   "source": [
    "#Escape character"
   ]
  },
  {
   "cell_type": "code",
   "execution_count": null,
   "metadata": {},
   "outputs": [],
   "source": [
    "txt = \"We are the so-called \\\"Vikings\\\" from the north.\"\n",
    "print(txt)"
   ]
  },
  {
   "cell_type": "markdown",
   "metadata": {},
   "source": [
    "#String methods\n",
    "\n",
    "#capitalize()\tConverts the first character to upper case\n",
    "#casefold()\tConverts string into lower case\n",
    "#center()\tReturns a centered string\n",
    "#count()\tReturns the number of times a specified value occurs in a string\n",
    "#encode()\tReturns an encoded version of the string\n",
    "#endswith()\tReturns true if the string ends with the specified value\n",
    "#expandtabs()\tSets the tab size of the string\n",
    "#find()\tSearches the string for a specified value and returns the position of where it was found\n",
    "#format()\tFormats specified values in a string\n",
    "#format_map()\tFormats specified values in a string\n",
    "#index()\tSearches the string for a specified value and returns the position of where it was found\n",
    "#isalnum()\tReturns True if all characters in the string are alphanumeric\n",
    "#isalpha()\tReturns True if all characters in the string are in the alphabet\n",
    "#isdecimal()\tReturns True if all characters in the string are decimals\n",
    "#isdigit()\tReturns True if all characters in the string are digits\n",
    "#isidentifier()\tReturns True if the string is an identifier\n",
    "#islower()\tReturns True if all characters in the string are lower case\n",
    "#isnumeric()\tReturns True if all characters in the string are numeric\n",
    "#isprintable()\tReturns True if all characters in the string are printable\n",
    "#isspace()\tReturns True if all characters in the string are whitespaces\n",
    "#istitle()\tReturns True if the string follows the rules of a title\n",
    "#isupper()\tReturns True if all characters in the string are upper case\n",
    "#join()\tJoins the elements of an iterable to the end of the string\n",
    "#ljust()\tReturns a left justified version of the string\n",
    "#lower()\tConverts a string into lower case\n",
    "#lstrip()\tReturns a left trim version of the string\n",
    "#maketrans()\tReturns a translation table to be used in translations\n",
    "#partition()\tReturns a tuple where the string is parted into three parts\n",
    "#replace()\tReturns a string where a specified value is replaced with a specified value\n",
    "#rfind()\tSearches the string for a specified value and returns the last position of where it was found\n",
    "#rindex()\tSearches the string for a specified value and returns the last position of where it was found\n",
    "#rjust()\tReturns a right justified version of the string\n",
    "#rpartition()\tReturns a tuple where the string is parted into three parts\n",
    "#rsplit()\tSplits the string at the specified separator, and returns a list\n",
    "#rstrip()\tReturns a right trim version of the string\n",
    "#split()\tSplits the string at the specified separator, and returns a list\n",
    "#splitlines()\tSplits the string at line breaks and returns a list\n",
    "#startswith()\tReturns true if the string starts with the specified value\n",
    "#strip()\tReturns a trimmed version of the string\n",
    "#swapcase()\tSwaps cases, lower case becomes upper case and vice versa\n",
    "#title()\tConverts the first character of each word to upper case\n",
    "#translate()\tReturns a translated string\n",
    "#upper()\tConverts a string into upper case\n",
    "#zfill()\tFills the string with a specified number of 0 values at the beginning"
   ]
  }
 ],
 "metadata": {
  "kernelspec": {
   "display_name": "Python 3.9.13 64-bit (microsoft store)",
   "language": "python",
   "name": "python3"
  },
  "language_info": {
   "name": "python",
   "version": "3.9.13"
  },
  "orig_nbformat": 4,
  "vscode": {
   "interpreter": {
    "hash": "205b1af2a36fc9b873948fcd945df97d4e7fe0398c281cee8fa0ab963bce39cd"
   }
  }
 },
 "nbformat": 4,
 "nbformat_minor": 2
}
