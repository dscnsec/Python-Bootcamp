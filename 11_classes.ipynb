{
 "cells": [
  {
   "cell_type": "markdown",
   "metadata": {},
   "source": [
    "**CLASS AND OBJECT**"
   ]
  },
  {
   "cell_type": "markdown",
   "metadata": {},
   "source": [
    "#This is a class\n",
    "Classes are used to create objects"
   ]
  },
  {
   "cell_type": "code",
   "execution_count": null,
   "metadata": {},
   "outputs": [],
   "source": [
    "class MyClass:\n",
    "    #This is a docstring\n",
    "    #Docstrings are used to describe a class\n",
    "    \"\"\"This class prints Hello and the name passed as a parameter\"\"\"\n",
    "\n",
    "    #This is a class variable\n",
    "    #Class variables are variables that are shared by all objects of the class\n",
    "    classVariable = \"Hello World\"\n",
    "\n",
    "    #This is a constructor\n",
    "    #Constructors are used to initialize the object\n",
    "    def __init__(self, name):\n",
    "        #This is an instance variable\n",
    "        #Instance variables are variables that are unique to each object of the class\n",
    "        self.name = name\n",
    "\n",
    "        #public variables are accessible from outside the class\n",
    "        self.publicVariable = \"Hello World\"\n",
    "        #protected variables are accessible from within the class and its subclasses\n",
    "        self._protectedVariable = \"Hello World\"\n",
    "        #private variables are accessible only from within the class\n",
    "        self.__privateVariable = \"Hello World\"\n",
    "    \n",
    "    #This is a method\n",
    "    #Methods are functions that are defined inside a class\n",
    "    def myMethod(self):\n",
    "        print(\"Hello \" + self.name)\n",
    "\n",
    "    #This is a static method\n",
    "    #Static methods are methods that are bound to a class and not the object of the class\n",
    "    @staticmethod\n",
    "    def myStaticMethod():\n",
    "        print(\"Hello World\")\n",
    "    \n",
    "    #This is a class method\n",
    "    #Class methods are methods that are bound to the class and not the object of the class\n",
    "    @classmethod\n",
    "    def myClassMethod(cls):\n",
    "        print(\"Hello World\")\n",
    "    \n",
    "    #This is a property\n",
    "    #Properties are used to define getter, setter and deleter methods\n",
    "    @property\n",
    "    def myProperty(self):\n",
    "        #This is a getter method\n",
    "        return self.__privateVariable\n",
    "\n",
    "    @myProperty.setter\n",
    "    def myProperty(self, value):\n",
    "        #This is a setter method\n",
    "        self.__privateVariable = value\n",
    "\n",
    "    @myProperty.deleter\n",
    "    def myProperty(self):\n",
    "        #This is a deleter method\n",
    "        del self.__privateVariable\n",
    "    \n",
    "    #This is a magic method\n",
    "    #Magic methods are used to define the behavior of operators\n",
    "    def __add__(self, other):\n",
    "        return self.name + other.name"
   ]
  },
  {
   "cell_type": "markdown",
   "metadata": {},
   "source": [
    "#This is an object\n",
    "Objects are instances of a class"
   ]
  },
  {
   "cell_type": "code",
   "execution_count": null,
   "metadata": {},
   "outputs": [],
   "source": [
    "obj = MyClass(\"GDSC\") "
   ]
  },
  {
   "cell_type": "markdown",
   "metadata": {},
   "source": [
    "#This is an object method call\n",
    "Object method calls are used to call a method of an object"
   ]
  },
  {
   "cell_type": "code",
   "execution_count": null,
   "metadata": {},
   "outputs": [],
   "source": [
    "obj.myMethod()"
   ]
  },
  {
   "cell_type": "markdown",
   "metadata": {},
   "source": [
    "#This is an object variable access\n",
    "Object variable accesses are used to access a variable of an object"
   ]
  },
  {
   "cell_type": "code",
   "execution_count": null,
   "metadata": {},
   "outputs": [],
   "source": [
    "print(obj.name)"
   ]
  }
 ],
 "metadata": {
  "kernelspec": {
   "display_name": "Python 3.9.13 64-bit (microsoft store)",
   "language": "python",
   "name": "python3"
  },
  "language_info": {
   "name": "python",
   "version": "3.9.13"
  },
  "orig_nbformat": 4,
  "vscode": {
   "interpreter": {
    "hash": "205b1af2a36fc9b873948fcd945df97d4e7fe0398c281cee8fa0ab963bce39cd"
   }
  }
 },
 "nbformat": 4,
 "nbformat_minor": 2
}
