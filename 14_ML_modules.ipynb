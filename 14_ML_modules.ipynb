{
 "cells": [
  {
   "cell_type": "markdown",
   "metadata": {},
   "source": [
    "**MACHINE LEARNING**"
   ]
  },
  {
   "cell_type": "markdown",
   "metadata": {},
   "source": [
    "#These are some important ML modules\n",
    "\n",
    "numpy, pandas, matplotlib, seaborn, sklearn, scikit-learn, scipy, statsmodels"
   ]
  },
  {
   "cell_type": "markdown",
   "metadata": {},
   "source": [
    "#DL modules\n",
    "\n",
    "tensorflow, keras, pytorch, mxnet"
   ]
  },
  {
   "cell_type": "markdown",
   "metadata": {},
   "source": [
    "#AI modules\n",
    "\n",
    "nltk, spacy, gensim"
   ]
  },
  {
   "cell_type": "markdown",
   "metadata": {},
   "source": [
    "#Some popular ML Algorithms\n",
    "\n",
    "Linear Regression, Logistic Regression, KNN, K-Means, Decision Tree, Random Forest, SVM, Naive Bayes, Neural Networks, Deep Learning, etc."
   ]
  },
  {
   "cell_type": "markdown",
   "metadata": {},
   "source": [
    "#Some popular DL Algorithms\n",
    "\n",
    "ANN, CNN, RNN, LSTM, GRU etc"
   ]
  },
  {
   "cell_type": "markdown",
   "metadata": {},
   "source": [
    "#Computer Vision Algorithms\n",
    "\n",
    "HOG, SIFT, SURF, FAST, BRIEF, ORB, BRISK, FREAK, AKAZE, KAZE, MSER, GFTT, HARRIS, DENSE, BOW, etc"
   ]
  },
  {
   "cell_type": "markdown",
   "metadata": {},
   "source": [
    "#Natural Language Processing Algorithms\n",
    "\n",
    "Word2Vec, GloVe, FastText, BERT, GPT, GPT-2, GPT-3, etc"
   ]
  },
  {
   "cell_type": "markdown",
   "metadata": {},
   "source": [
    "#Data Science Algorithms\n",
    "\n",
    "PCA, LDA, ICA, SVD, KPCA, KDA, KICA, KSVD, etc"
   ]
  },
  {
   "cell_type": "markdown",
   "metadata": {},
   "source": [
    "#Some popular AI Algorithms\n",
    "\n",
    "NLP, NLU, NLG, NER, OCR, ASR, TTS, GAN, RNN, LSTM, GRU etc"
   ]
  },
  {
   "cell_type": "markdown",
   "metadata": {},
   "source": [
    "#**Abbreviations**\n",
    "# \n",
    "#\n",
    "#ML = Machine Learning\n",
    "#DL = Deep Learning\n",
    "#AI = Artificial Intelligence\n",
    "#NLP = Natural Language Processing\n",
    "#NLU = Natural Language Understanding\n",
    "#NLG = Natural Language Generation\n",
    "#NER = Named Entity Recognition\n",
    "#OCR = Optical Character Recognition\n",
    "#ASR = Automatic Speech Recognition\n",
    "#TTS = Text to Speech\n",
    "#GAN = Generative Adversarial Network\n",
    "#RNN = Recurrent Neural Network\n",
    "#LSTM = Long Short Term Memory\n",
    "#GRU = Gated Recurrent Unit\n",
    "#ANN = Artificial Neural Network\n",
    "#CNN = Convolutional Neural Network\n",
    "#RNN = Recurrent Neural Network\n",
    "#SVM = Support Vector Machine\n",
    "#KNN = K-Nearest Neighbors\n",
    "#K-Means = K-Means Clustering\n",
    "#PCA = Principal Component Analysis\n",
    "#LDA = Linear Discriminant Analysis\n",
    "#ICA = Independent Component Analysis\n",
    "#SVD = Singular Value Decomposition\n",
    "#KPCA = Kernel Principal Component Analysis\n",
    "#KDA = Kernel Discriminant Analysis\n",
    "#KICA = Kernel Independent Component Analysis\n",
    "#KSVD = Kernel Singular Value Decomposition"
   ]
  }
 ],
 "metadata": {
  "kernelspec": {
   "display_name": "Python 3.9.13 64-bit (microsoft store)",
   "language": "python",
   "name": "python3"
  },
  "language_info": {
   "name": "python",
   "version": "3.9.13"
  },
  "orig_nbformat": 4,
  "vscode": {
   "interpreter": {
    "hash": "205b1af2a36fc9b873948fcd945df97d4e7fe0398c281cee8fa0ab963bce39cd"
   }
  }
 },
 "nbformat": 4,
 "nbformat_minor": 2
}
