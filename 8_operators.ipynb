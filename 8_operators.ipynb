{
 "cells": [
  {
   "cell_type": "markdown",
   "metadata": {},
   "source": [
    "#**OPERATORS**"
   ]
  },
  {
   "cell_type": "markdown",
   "metadata": {},
   "source": [
    "#**Arithmetic operators**"
   ]
  },
  {
   "cell_type": "markdown",
   "metadata": {},
   "source": [
    "#Addition"
   ]
  },
  {
   "cell_type": "code",
   "execution_count": null,
   "metadata": {},
   "outputs": [],
   "source": [
    "x = 5\n",
    "y = 3\n",
    "print(x + y)"
   ]
  },
  {
   "cell_type": "markdown",
   "metadata": {},
   "source": [
    "#Subtraction"
   ]
  },
  {
   "cell_type": "code",
   "execution_count": null,
   "metadata": {},
   "outputs": [],
   "source": [
    "x = 5\n",
    "y = 3\n",
    "print(x - y)"
   ]
  },
  {
   "cell_type": "markdown",
   "metadata": {},
   "source": [
    "#Multiplication"
   ]
  },
  {
   "cell_type": "code",
   "execution_count": null,
   "metadata": {},
   "outputs": [],
   "source": [
    "x = 5\n",
    "y = 3\n",
    "print(x * y)"
   ]
  },
  {
   "cell_type": "markdown",
   "metadata": {},
   "source": [
    "#Division"
   ]
  },
  {
   "cell_type": "code",
   "execution_count": null,
   "metadata": {},
   "outputs": [],
   "source": [
    "x = 5\n",
    "y = 3\n",
    "print(x / y)"
   ]
  },
  {
   "cell_type": "markdown",
   "metadata": {},
   "source": [
    "#Modulus\n"
   ]
  },
  {
   "cell_type": "code",
   "execution_count": null,
   "metadata": {},
   "outputs": [],
   "source": [
    "x = 5\n",
    "y = 3\n",
    "print(x % y)    "
   ]
  },
  {
   "cell_type": "markdown",
   "metadata": {},
   "source": [
    "#Exponentiation"
   ]
  },
  {
   "cell_type": "code",
   "execution_count": null,
   "metadata": {},
   "outputs": [],
   "source": [
    "x = 5\n",
    "y = 3\n",
    "print(x ** y)"
   ]
  },
  {
   "cell_type": "markdown",
   "metadata": {},
   "source": [
    "#Floor division"
   ]
  },
  {
   "cell_type": "code",
   "execution_count": null,
   "metadata": {},
   "outputs": [],
   "source": [
    "x = 5\n",
    "y = 3\n",
    "print(x // y)"
   ]
  },
  {
   "cell_type": "markdown",
   "metadata": {},
   "source": [
    "#Assignment operators\n",
    "\n",
    "#Assigns values from right side operands to left side operand\n",
    "#x = 5 is a simple assignment operator that assigns the value 5 on the right to the variable x on the left\n",
    "#x += 3 is a compound assignment operator that performs addition and then assigns the value to the variable x\n",
    "#x -= 3 is a compound assignment operator that performs subtraction and then assigns the value to the variable x\n",
    "#x *= 3 is a compound assignment operator that performs multiplication and then assigns the value to the variable x\n",
    "#x /= 3 is a compound assignment operator that performs division and then assigns the value to the variable x\n",
    "#x %= 3 is a compound assignment operator that performs modulus and then assigns the value to the variable x\n",
    "#x //= 3 is a compound assignment operator that performs floor division and then assigns the value to the variable x\n",
    "#x **= 3 is a compound assignment operator that performs exponentiation and then assigns the value to the variable x"
   ]
  },
  {
   "cell_type": "markdown",
   "metadata": {},
   "source": [
    "#Comparison operators\n",
    "\n",
    "#Returns True if the statement is true, otherwise False\n",
    "#== is equal to\n",
    "#!= is not equal to\n",
    "#> is greater than\n",
    "#< is less than\n",
    "#>= is greater than or equal to\n",
    "#<= is less than or equal to"
   ]
  },
  {
   "cell_type": "markdown",
   "metadata": {},
   "source": [
    "#Logical operators\n",
    "\n",
    "#and - Returns True if both statements are true\n",
    "#or - Returns True if one of the statements is true\n",
    "#not - Reverse the result, returns False if the result is true"
   ]
  },
  {
   "cell_type": "markdown",
   "metadata": {},
   "source": [
    "#Identity operators\n",
    "\n",
    "#is - Returns True if both variables are the same object\n",
    "#is not - Returns True if both variables are not the same object"
   ]
  },
  {
   "cell_type": "markdown",
   "metadata": {},
   "source": [
    "#Membership operators\n",
    "\n",
    "#in - Returns True if a sequence with the specified value is present in the object\n",
    "#not in - Returns True if a sequence with the specified value is not present in the object\n"
   ]
  },
  {
   "cell_type": "markdown",
   "metadata": {},
   "source": [
    "#Bitwise operators\n",
    "\n",
    "#& - Binary AND\n",
    "#| - Binary OR\n",
    "#^ - Binary XOR\n",
    "#~ - Binary Ones Complement\n",
    "#<< - Binary Left Shift\n",
    "#>> - Binary Right Shift"
   ]
  },
  {
   "cell_type": "markdown",
   "metadata": {},
   "source": [
    "#Python has the following data types built-in by default, in these categories:\n",
    "\n",
    "#Text Type:\tstr\n",
    "#Numeric Types:\tint, float, complex\n",
    "#Sequence Types:\tlist, tuple, range\n",
    "#Mapping Type:\tdict\n",
    "#Set Types:\tset, frozenset\n",
    "#Boolean Type:\tbool\n",
    "#Binary Types:\tbytes, bytearray, memoryview"
   ]
  }
 ],
 "metadata": {
  "kernelspec": {
   "display_name": "Python 3.9.13 64-bit (microsoft store)",
   "language": "python",
   "name": "python3"
  },
  "language_info": {
   "name": "python",
   "version": "3.9.13"
  },
  "orig_nbformat": 4,
  "vscode": {
   "interpreter": {
    "hash": "205b1af2a36fc9b873948fcd945df97d4e7fe0398c281cee8fa0ab963bce39cd"
   }
  }
 },
 "nbformat": 4,
 "nbformat_minor": 2
}
